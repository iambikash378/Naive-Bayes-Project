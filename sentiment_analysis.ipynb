{
 "cells": [
  {
   "cell_type": "markdown",
   "metadata": {},
   "source": [
    "<center> <h1> Sentiment Analysis on Twitter Data Using Naive Bayes </h1> </center>\n",
    "\n",
    "\n",
    "### Prepared By:\n",
    "Bikash Adhikari [*077BEI015*]  \n",
    "Subikshya Bista [*077BEI044*]\n",
    "\n",
    "***\n",
    "***"
   ]
  },
  {
   "cell_type": "markdown",
   "metadata": {},
   "source": [
    "# Project Introduction\n",
    "This project aims to deploy the Naive Bayes Classifier for Sentiment Analysis of Tweets. It classifies tweets either as Positive Tweet (1.0) or as Negative Tweet (0.0). The data is preprocessed and trained on the Naive Bayes Algorithm. It is then tested and evaluated using standard evaluation metrices (i.e. accuracy, recall , precision) and confusion matrix.\n",
    "\n",
    "# Libraries Used\n",
    "- NLTK\n",
    "- Numpy\n",
    "- Matplotlib\n",
    "- String\n",
    "- re\n",
    "- seaborn\n",
    "- scikit-learn\n",
    "\n",
    "# DataSet Used\n",
    "- Twitter Samples Dataset from NLTK Corpus"
   ]
  },
  {
   "cell_type": "markdown",
   "metadata": {},
   "source": [
    "# Theory\n",
    "## Naive Bayes Algorithm\n",
    "\n",
    "\n",
    "The Naive Bayes algorithm is a probabilistic classifier based on Bayes' Theorem with the \"naive\" assumption of independence between the features. It is widely used in various applications, including text classification, spam filtering, and sentiment analysis due to its simplicity and effectiveness.\n",
    "\n",
    "## Bayes' Theorem\n",
    "\n",
    "At the core of the Naive Bayes algorithm is Bayes' Theorem, which describes the probability of an event based on prior knowledge of conditions related to the event. The theorem is given by:\n",
    "\n",
    "$$\n",
    "P(C \\mid X) = \\frac{P(X \\mid C) \\cdot P(C)}{P(X)}\n",
    "$$\n",
    "\n",
    "where:\n",
    "- \\( P(C | X) \\) is the posterior probability of class \\( C \\) given the feature vector \\( X \\).\n",
    "- \\( P(X | C) \\) is the likelihood of feature vector \\( X \\) given class \\( C \\).\n",
    "- \\( P(C) \\) is the prior probability of class \\( C \\).\n",
    "- \\( P(X) \\) is the marginal probability of feature vector \\( X \\).\n",
    "\n",
    "## Naive Assumption\n",
    "\n",
    "The \"naive\" assumption in Naive Bayes is that all features are independent given the class. This simplifies the computation of the likelihood \\( P(X | C) \\) as follows:\n",
    "\n",
    "$$\n",
    "P(X | C) = \\prod_{i=1}^{n} P(x_i | C)\n",
    "$$\n",
    "\n",
    "where:\n",
    "- \\( x_i \\) is the \\( i \\)-th feature in the feature vector \\( X \\).\n",
    "- \\( n \\) is the total number of features.\n",
    "\n",
    "\n",
    "## Training the Naive Bayes Classifier\n",
    "\n",
    "To train a Naive Bayes classifier, the following steps are typically performed:\n",
    "\n",
    "1. **Estimate Prior Probabilities**\n",
    "   - Compute the prior probability of each class \\( P(C) \\).\n",
    "\n",
    "2. **Estimate Likelihoods**\n",
    "   - Compute the likelihood of each feature given each class \\( P(x_i | C) \\).\n",
    "\n",
    "3. **Compute Posterior Probabilities**\n",
    "   - Use Bayes' Theorem to compute the posterior probability for each class given the feature vector.\n",
    "\n",
    "## Predicting with Naive Bayes\n",
    "\n",
    "To classify a new instance, the algorithm computes the posterior probability for each class and selects the class with the highest probability. This can be written as:\n",
    "\n",
    "$$\n",
    "\\hat{C} = \\arg \\max_{C} \\left( P(C) \\cdot \\prod_{i=1}^{n} P(x_i | C) \\right)\n",
    "$$\n",
    "\n",
    "where \\( \\hat{C} \\) is the predicted class.\n",
    "\n",
    "\n",
    "***"
   ]
  },
  {
   "cell_type": "markdown",
   "metadata": {},
   "source": [
    "# Project Walkthrough\n",
    "***"
   ]
  },
  {
   "cell_type": "markdown",
   "metadata": {},
   "source": [
    "## Importing NLTK and NUMPY Libraries"
   ]
  },
  {
   "cell_type": "code",
   "execution_count": 139,
   "metadata": {},
   "outputs": [],
   "source": [
    "import nltk\n",
    "from nltk.corpus import twitter_samples\n",
    "import numpy as np"
   ]
  },
  {
   "cell_type": "markdown",
   "metadata": {},
   "source": [
    "## Downloading the Twitter Dataset from NLTK Library"
   ]
  },
  {
   "cell_type": "code",
   "execution_count": 5,
   "metadata": {},
   "outputs": [
    {
     "data": {
      "text/plain": [
       "['/home/adbik/nltk_data',\n",
       " '/usr/nltk_data',\n",
       " '/usr/share/nltk_data',\n",
       " '/usr/lib/nltk_data',\n",
       " '/usr/share/nltk_data',\n",
       " '/usr/local/share/nltk_data',\n",
       " '/usr/lib/nltk_data',\n",
       " '/usr/local/lib/nltk_data']"
      ]
     },
     "execution_count": 5,
     "metadata": {},
     "output_type": "execute_result"
    }
   ],
   "source": [
    "#nltk.download('twitter_samples')\n",
    "#nltk.data.path #Checking where is the data"
   ]
  },
  {
   "cell_type": "markdown",
   "metadata": {},
   "source": [
    "## Storing Positive Tweets and Negative Tweets Separately"
   ]
  },
  {
   "cell_type": "code",
   "execution_count": 6,
   "metadata": {},
   "outputs": [],
   "source": [
    "positive_tweets = twitter_samples.strings('positive_tweets.json')\n",
    "negative_tweets = twitter_samples.strings('negative_tweets.json')\n",
    "\n",
    "print(\"The length of positive tweets are : \", len(positive_tweets))\n",
    "print(\"The length of negative tweets are : \", len(negative_tweets))"
   ]
  },
  {
   "cell_type": "markdown",
   "metadata": {},
   "source": [
    "## Exploring Positive and Negative Tweet Samples"
   ]
  },
  {
   "cell_type": "code",
   "execution_count": 8,
   "metadata": {},
   "outputs": [
    {
     "name": "stdout",
     "output_type": "stream",
     "text": [
      "1373\n",
      "Thank you @platform4prose :)\n",
      "@ImJoanneT Ahh no what did you get done?? I hope you're okay :(\n"
     ]
    }
   ],
   "source": [
    "random_tweet = np.random.randint(0, 5000)\n",
    "print(random_tweet)\n",
    "\n",
    "print(positive_tweets[random_tweet])\n",
    "print(negative_tweets[random_tweet])"
   ]
  },
  {
   "cell_type": "markdown",
   "metadata": {},
   "source": [
    "## Importing RegEx and String Library along with NLTK Modules for Preprocessing of the Tweets"
   ]
  },
  {
   "cell_type": "code",
   "execution_count": 140,
   "metadata": {},
   "outputs": [],
   "source": [
    "\n",
    "import re\n",
    "import string\n",
    "from nltk.corpus import stopwords\n",
    "from nltk.stem import PorterStemmer\n",
    "from nltk.tokenize import TweetTokenizer\n"
   ]
  },
  {
   "cell_type": "markdown",
   "metadata": {},
   "source": [
    "## Removing Hyperlinks, Hashtags and Twitter Marks using RegEx"
   ]
  },
  {
   "cell_type": "code",
   "execution_count": 47,
   "metadata": {},
   "outputs": [],
   "source": [
    " # We first remove hyperlinks, twitter marks and styles using regular expressions\n",
    "\n",
    "def remove_unwanted(tweet):\n",
    "    # Removing hashtags\n",
    "    clean_tweet = re.sub(r'#','',tweet)\n",
    "\n",
    "    #Removing hyperlinks\n",
    "    clean_tweet = re.sub(r'https?:\\/\\/.*[\\r\\n]*', '', clean_tweet)\n",
    "    \n",
    "    #Removing old style Retweet text \"RT\"\n",
    "    clean_tweet = re.sub(r'^RT[\\s]+','',clean_tweet)\n",
    "    \n",
    "    return clean_tweet\n"
   ]
  },
  {
   "cell_type": "markdown",
   "metadata": {},
   "source": [
    "## Checking the preprocessed tweets"
   ]
  },
  {
   "cell_type": "code",
   "execution_count": 48,
   "metadata": {},
   "outputs": [
    {
     "name": "stdout",
     "output_type": "stream",
     "text": [
      "1373\n",
      "Thank you @platform4prose :)\n",
      "Thank you @platform4prose :)\n"
     ]
    }
   ],
   "source": [
    "\n",
    "print(random_tweet)\n",
    "print(positive_tweets[random_tweet])\n",
    "removed_tweet = remove_unwanted(positive_tweets[random_tweet])\n",
    "print(removed_tweet)\n"
   ]
  },
  {
   "cell_type": "markdown",
   "metadata": {},
   "source": [
    "## Tokenizing the tweet i.e. Splitting the string into individual words"
   ]
  },
  {
   "cell_type": "code",
   "execution_count": 49,
   "metadata": {},
   "outputs": [],
   "source": [
    "# We then tokenize the string i.e. split the string into individual words\n",
    "\n",
    "tokenizer = TweetTokenizer(preserve_case = False, strip_handles=True, reduce_len=True)\n",
    "\n",
    "def tokenize_tweet(tweet):\n",
    "    tokened_tweet = tokenizer.tokenize(tweet)\n",
    "    return tokened_tweet\n"
   ]
  },
  {
   "cell_type": "markdown",
   "metadata": {},
   "source": [
    "## Removing Stop Words and Punctuations from the Tokenized Tweets"
   ]
  },
  {
   "cell_type": "code",
   "execution_count": 50,
   "metadata": {},
   "outputs": [],
   "source": [
    "# We now remove stop words and punctuations\n",
    "\n",
    "#nltk.download('stopwords')\n",
    "#importing English stop words list from NLTK\n",
    "stopwords_eng = stopwords.words('english')\n",
    "punctuations = string.punctuation\n",
    "\n",
    "def remove_stopwords_and_punctuations(tokened_tweets):\n",
    "    clean_tokens = []\n",
    "\n",
    "    for word in tokened_tweets:\n",
    "        if(word not in stopwords_eng and word not in punctuations):\n",
    "            clean_tokens.append(word)\n",
    "    \n",
    "    return clean_tokens"
   ]
  },
  {
   "cell_type": "markdown",
   "metadata": {},
   "source": [
    "## Stemming i.e. Converting a word into its general form"
   ]
  },
  {
   "cell_type": "code",
   "execution_count": 51,
   "metadata": {},
   "outputs": [],
   "source": [
    "# We now do stemming, which means to convert a word into its general form i.e. simple present form\n",
    "\n",
    "stemmer = PorterStemmer()\n",
    "\n",
    "def get_stem(tweets_clean):\n",
    "    tweets_stem = []\n",
    "    \n",
    "    for word in tweets_clean:\n",
    "        stem_word = stemmer.stem(word)\n",
    "        tweets_stem.append(stem_word)\n",
    "\n",
    "    return tweets_stem\n",
    "\n"
   ]
  },
  {
   "cell_type": "markdown",
   "metadata": {},
   "source": [
    "## Testing the preprocessing, stemming and Stop Words Removal "
   ]
  },
  {
   "cell_type": "code",
   "execution_count": 52,
   "metadata": {},
   "outputs": [
    {
     "name": "stdout",
     "output_type": "stream",
     "text": [
      "The raw tweet is: \n",
      "@OJBJ @holmesjsamuel surely this could be your warmup this morning ??? Coming on 15th to Bath :) xx\n",
      "\n",
      "The tweet after removing hashtags and hyperlink is:\n",
      "@OJBJ @holmesjsamuel surely this could be your warmup this morning ??? Coming on 15th to Bath :) xx\n",
      " \n",
      "The tweet after tokenizing can be displayed as: \n",
      "['surely', 'this', 'could', 'be', 'your', 'warmup', 'this', 'morning', '?', '?', '?', 'coming', 'on', '15th', 'to', 'bath', ':)', 'xx']\n",
      "\n",
      "The tokens after removing stopwords and punctuation is:\n",
      " ['surely', 'could', 'warmup', 'morning', 'coming', '15th', 'bath', ':)', 'xx'] \n",
      "\n",
      "The tokens after stemming them is:\n",
      "['sure', 'could', 'warmup', 'morn', 'come', '15th', 'bath', ':)', 'xx']\n",
      "\n"
     ]
    }
   ],
   "source": [
    "#Checking whether all the processes have worked\n",
    "\n",
    "example_tweet = np.random.randint(0,500)\n",
    "print(\"The raw tweet is: \\n{}\\n\".format(positive_tweets[example_tweet]))\n",
    " \n",
    "print(\"The tweet after removing hashtags and hyperlink is:\\n{}\\n \".format(remove_unwanted(positive_tweets[example_tweet])))\n",
    "\n",
    "print(\"The tweet after tokenizing can be displayed as: \\n{}\\n\".format(tokenize_tweet(remove_unwanted(positive_tweets[example_tweet]))))\n",
    "\n",
    "print(\"The tokens after removing stopwords and punctuation is:\\n {} \\n\".format(remove_stopwords_and_punctuations(tokenize_tweet(remove_unwanted(positive_tweets[example_tweet])))))\n",
    "\n",
    "print(\"The tokens after stemming them is:\\n{}\\n\".format(get_stem(remove_stopwords_and_punctuations(tokenize_tweet(remove_unwanted(positive_tweets[example_tweet]))))))"
   ]
  },
  {
   "cell_type": "markdown",
   "metadata": {},
   "source": [
    "## Defining a combined Preprocessing Function "
   ]
  },
  {
   "cell_type": "code",
   "execution_count": 54,
   "metadata": {},
   "outputs": [],
   "source": [
    "# Since all of these seem to work, we will now apply a combined function of all of there preprocessing techniques to the tweets\n",
    "\n",
    "def combined_preprocessing(tweet):\n",
    "    hashtags_and_links_removed = remove_unwanted(tweet)\n",
    "    tokenized = tokenize_tweet(hashtags_and_links_removed)\n",
    "    stopwords_and_punc_removed = remove_stopwords_and_punctuations(tokenized)\n",
    "    stemmed_tokens = get_stem(stopwords_and_punc_removed)\n",
    "\n",
    "    return stemmed_tokens"
   ]
  },
  {
   "cell_type": "markdown",
   "metadata": {},
   "source": [
    "## Testing the Combined Preprocessing Function"
   ]
  },
  {
   "cell_type": "code",
   "execution_count": 55,
   "metadata": {},
   "outputs": [
    {
     "name": "stdout",
     "output_type": "stream",
     "text": [
      "@StepintolifeYvl Amazing news! Enjoy your toy :)\n",
      "['amaz', 'news', 'enjoy', 'toy', ':)']\n"
     ]
    }
   ],
   "source": [
    "ex_tweet = np.random.randint(1,5000)\n",
    "print(positive_tweets[ex_tweet])\n",
    "print(combined_preprocessing(positive_tweets[ex_tweet]))"
   ]
  },
  {
   "cell_type": "markdown",
   "metadata": {},
   "source": [
    "## Splitting the Data into Training and Testing Sets in 80:20 Ratio"
   ]
  },
  {
   "cell_type": "code",
   "execution_count": 56,
   "metadata": {},
   "outputs": [],
   "source": [
    "#Splitting Data into Training and Testing Sets\n",
    "\n",
    "train_positive = positive_tweets[:4000]\n",
    "train_negative = negative_tweets[:4000]\n",
    "test_positive = positive_tweets[4000:]\n",
    "test_negative = negative_tweets[4000:]\n",
    "\n",
    "train_x = train_positive + train_negative\n",
    "test_x = test_positive + test_negative\n",
    "\n",
    "train_y = np.append(np.ones(len(train_positive)), np.zeros(len(train_negative)))\n",
    "test_y = np.append(np.ones(len(test_positive)), np.zeros(len(test_negative)))\n",
    "#print(train_y.shape)\n",
    "#print(test_y.shape)\n",
    "\n",
    "\n"
   ]
  },
  {
   "cell_type": "markdown",
   "metadata": {},
   "source": [
    "## Creating Frequency Dictionary Function"
   ]
  },
  {
   "cell_type": "code",
   "execution_count": 57,
   "metadata": {},
   "outputs": [],
   "source": [
    "#Creating a frequency dictionary\n",
    "\n",
    "def create_freq_dict(tweets, y_values):\n",
    "    freq_dictionary = {}\n",
    "\n",
    "    for tweet, y in zip(tweets, y_values):\n",
    "        for word in combined_preprocessing(tweet):\n",
    "            pair = (word,y)\n",
    "            if pair in freq_dictionary:\n",
    "                freq_dictionary[pair] +=1\n",
    "            else:\n",
    "                freq_dictionary[pair] = 1\n",
    "    \n",
    "    return freq_dictionary"
   ]
  },
  {
   "cell_type": "markdown",
   "metadata": {},
   "source": [
    "## Testing the Frequency Dictionary"
   ]
  },
  {
   "cell_type": "code",
   "execution_count": 58,
   "metadata": {},
   "outputs": [
    {
     "name": "stdout",
     "output_type": "stream",
     "text": [
      "{('good', 1): 2, ('sad', 0): 1, ('post', 1): 1, ('banger', 1): 1, ('disappoint', 0): 1, ('day', 1): 1}\n"
     ]
    }
   ],
   "source": [
    "#Testing the frequency dictionary\n",
    "\n",
    "tweets = ['This is good','I am sad',\"the post is a banger\",'That disappointing','what a good day']\n",
    "y_values = [1,0,1,0,1]\n",
    "\n",
    "freq_d = create_freq_dict(tweets,y_values)\n",
    "print(freq_d)\n",
    "\n",
    "#Works !"
   ]
  },
  {
   "cell_type": "markdown",
   "metadata": {},
   "source": [
    "## Creating a Frequecy Dictonary for the Training DataSet"
   ]
  },
  {
   "cell_type": "code",
   "execution_count": 136,
   "metadata": {},
   "outputs": [],
   "source": [
    "#Creating the frequency dictionary\n",
    "\n",
    "freq_dict = create_freq_dict(train_x,train_y)\n",
    "sorted_freq_dict = {k:v for k,v in sorted(freq_dict.items(),key = lambda item: item[1], reverse = True)}\n",
    "#print(sorted_freq_dict) "
   ]
  },
  {
   "cell_type": "markdown",
   "metadata": {},
   "source": [
    "## Training the Naive Bayes Model\n",
    "\n",
    "### Input\n",
    "**freq_dict** : frequency dictionary where (word, label) tuple is a key to the total number of times the word appears in the dataset  \n",
    "**train_x** : the 'x' value of training data i.e. list of tweets  \n",
    "**train_y** : the 'y' value of training data i.e. labels to the tweets  \n",
    "\n",
    "### Output\n",
    "\n",
    "**logprior** : the logarithm of the Prior Probability i.e.  \n",
    "\n",
    "$$ \\text{logprior} = \\log \\left( \\frac{D_{\\text{pos}}}{D_{\\text{neg}}} \\right) $$\n",
    "\n",
    "\n",
    " \n",
    "log_likelihood: the logarithm of the likelihood for a word in a given class i.e.\n",
    "\n",
    "$$\n",
    "\\text{loglikelihood}(w) = \\log \\left( \\frac{P(w \\mid \\text{positive})}{P(w \\mid \\text{negative})} \\right)\n",
    "$$\n",
    "\n",
    "where:\n",
    "\n",
    "$$\n",
    "P(w \\mid \\text{positive}) = \\frac{f(w, 1) + 1}{N_{\\text{pos}} + V}\n",
    "$$\n",
    "\n",
    "$$\n",
    "P(w \\mid \\text{negative}) = \\frac{f(w, 0) + 1}{N_{\\text{neg}} + V}\n",
    "$$\n",
    "\n",
    "Here:\n",
    "- \\( f(w, 1) \\) is the frequency of word \\( w \\) in positive tweets.\n",
    "- \\( f(w, 0) \\) is the frequency of word \\( w \\) in negative tweets.\n",
    "<!--\n",
    "- \\( N_{\\text{pos}} \\) $ is the total number of words in positive tweets.\n",
    "- \\( N_{\\text{neg}} \\) is the total number of words in negative tweets.\n",
    "-->\n",
    "- \\( V \\) is the number of unique words.\n",
    "\n"
   ]
  },
  {
   "cell_type": "code",
   "execution_count": 60,
   "metadata": {},
   "outputs": [],
   "source": [
    "#Training the naive bayes algorithm'''\n",
    "\n",
    "def train_naive_bayes(freq_dict, train_x, train_y):\n",
    "    loglikelihood = {}\n",
    "    logprior = 0\n",
    "\n",
    "    #Calculating the number of unique words in a vocab\n",
    "    unique_words = set([pair[0] for pair in freq_dict.keys()])\n",
    "    V = len(unique_words) # Here 'V' is the total number of unique words in the positive and negative tweets (not-repeated)\n",
    "\n",
    "\n",
    "    #calculating N_pos and N_neg\n",
    "    N_pos = 0 #N_pos is the total number of words in positive tweets \n",
    "    N_neg = 0 #N_neg is the total number of words in negative tweets\n",
    "\n",
    "    for pair in freq_dict.keys():\n",
    "        if pair[1] > 0:\n",
    "            N_pos += freq_dict[pair] \n",
    "        else:\n",
    "            N_neg += freq_dict[pair] #possible error\n",
    "     \n",
    "    #Calculating the total number of tweets\n",
    "    D = train_y.shape[0]\n",
    "    #Calculating the toal number of positive tweets\n",
    "    D_pos = sum(train_y)\n",
    "    #Calculating the total number of negative tweets\n",
    "    D_neg = D - D_pos\n",
    "\n",
    "    #We now find the log-prior\n",
    "    logprior = np.log(D_pos) - np.log(D_neg) # This is called log odds ratio (or log prior ratio)\n",
    "\n",
    "    #for each unique word\n",
    "    for word in unique_words:\n",
    "        freq_pos = freq_dict.get((word,1),0)\n",
    "        freq_neg = freq_dict.get((word,0),0)\n",
    "        \n",
    "        #Calculating the probability that word is positive and negative\n",
    "\n",
    "        prob_postive = (freq_pos+1) / (N_pos + V)\n",
    "        prob_negative = (freq_neg+1) / (N_neg + V )\n",
    "\n",
    "        #Calculating the log likeihood of the word\n",
    "        loglikelihood[word] = np.log(prob_postive) - np.log(prob_negative)\n",
    "\n",
    "    return logprior, loglikelihood\n"
   ]
  },
  {
   "cell_type": "markdown",
   "metadata": {},
   "source": [
    "## Testing whether the logprior is correct"
   ]
  },
  {
   "cell_type": "code",
   "execution_count": 141,
   "metadata": {},
   "outputs": [
    {
     "name": "stdout",
     "output_type": "stream",
     "text": [
      "0.0\n"
     ]
    }
   ],
   "source": [
    "\n",
    "D = train_y.shape[0]\n",
    "D_pos = sum(train_y)\n",
    "D_neg = D - D_pos\n",
    "logprior = np.log(D_pos) - np.log(D_neg)\n",
    "print(logprior)"
   ]
  },
  {
   "cell_type": "markdown",
   "metadata": {},
   "source": [
    "## Predicting the Tweets"
   ]
  },
  {
   "cell_type": "code",
   "execution_count": 142,
   "metadata": {},
   "outputs": [],
   "source": [
    "#Predicting the tweets\n",
    "\n",
    "def predict(tweet, logprior, loglikelihood):\n",
    "    processed_word_list = combined_preprocessing(tweet)\n",
    "    p = 0 #Initializing the probability to zero\n",
    "    p += logprior\n",
    "\n",
    "    for word in processed_word_list:\n",
    "        if word in loglikelihood:\n",
    "            p+= loglikelihood[word]\n",
    "\n",
    "    if p>0:\n",
    "        p = 1.0\n",
    "    else:\n",
    "        p = 0.0\n",
    "\n",
    "    return p"
   ]
  },
  {
   "cell_type": "markdown",
   "metadata": {},
   "source": [
    "## Testing the model with random Tweets from Twitter"
   ]
  },
  {
   "cell_type": "code",
   "execution_count": 109,
   "metadata": {},
   "outputs": [
    {
     "name": "stdout",
     "output_type": "stream",
     "text": [
      "Politicians are jerks whether new or old--> 1.00\n",
      "I had no idea sitting together and laughing at random stuff with my parents & siblings would become a luxury after a certain point in life--> 1.00\n",
      "Feeling sad for #Bangabandhu Sheikh Mujibur Rahman. Protesters vandalizing his memorials :( .. A nation that doesn't remember it's founding fathers, never has a bright future. This is him in London requesting support for their citizens!!--> 0.00\n",
      "While reading the news, it seems there is chaos everywhere. The interesting thing is that even with this chaos, we are enjoying a bull market. #NEPSE 😂😂😂--> 1.00\n",
      "Post 12 o' clock is when shit really starts to hit. This is why I HAVE to sleep early.--> 0.00\n",
      "Utter disgrace! Shameful and disgusting!--> 0.00\n",
      "pretty sunrise 10/10, the sky has been doing the most these days ✨--> 1.00\n",
      "I'm so hungry and I dont have access to any food :)--> 1.00\n",
      "so tired--> 0.00\n",
      "I really do not understand why beer is so popular, it tastes like puke and doesn't even get you drunk what is the purpose if you want sth to drink while you hangout just drink cocacola atleast that doesn't taste like torture--> 0.00\n"
     ]
    }
   ],
   "source": [
    "#Testing the predict function with random tweets from twitter\n",
    "\n",
    "loglikelihood = train_naive_bayes(freq_dict,train_x, train_y)[1]\n",
    "\n",
    "for tweet in ['Politicians are jerks whether new or old',\n",
    "              'I had no idea sitting together and laughing at random stuff with my parents & siblings would become a luxury after a certain point in life',\n",
    "              'Feeling sad for #Bangabandhu Sheikh Mujibur Rahman. Protesters vandalizing his memorials :( .. A nation that doesn\\'t remember it\\'s founding fathers, never has a bright future. This is him in London requesting support for their citizens!!',\n",
    "              'While reading the news, it seems there is chaos everywhere. The interesting thing is that even with this chaos, we are enjoying a bull market. #NEPSE 😂😂😂',\n",
    "              'Post 12 o\\' clock is when shit really starts to hit. This is why I HAVE to sleep early.',\n",
    "              'Utter disgrace! Shameful and disgusting!',\n",
    "              'pretty sunrise 10/10, the sky has been doing the most these days ✨',\n",
    "              'I\\'m so hungry and I dont have access to any food :)',\n",
    "              'so tired',\n",
    "              'I really do not understand why beer is so popular, it tastes like puke and doesn\\'t even get you drunk what is the purpose if you want sth to drink while you hangout just drink cocacola atleast that doesn\\'t taste like torture']:\n",
    "    p = predict(tweet, logprior,loglikelihood)\n",
    "    print(f'{tweet}--> {p:.2f}') \n",
    "\n"
   ]
  },
  {
   "cell_type": "markdown",
   "metadata": {},
   "source": [
    "## Importing Libraries for Testing and Evaluation Metrics"
   ]
  },
  {
   "cell_type": "code",
   "execution_count": 118,
   "metadata": {},
   "outputs": [],
   "source": [
    "#Testing and Evaluating\n",
    "from sklearn.metrics import accuracy_score, precision_score, recall_score\n",
    "from sklearn.metrics import confusion_matrix\n"
   ]
  },
  {
   "cell_type": "markdown",
   "metadata": {},
   "source": [
    "## Creating an array of predicted 'y' values"
   ]
  },
  {
   "cell_type": "code",
   "execution_count": 115,
   "metadata": {},
   "outputs": [],
   "source": [
    "y_pred = np.zeros(len(test_y))\n",
    "\n",
    "for index, tweet in enumerate(test_x):\n",
    "    predicted_y = predict(tweet, logprior, loglikelihood)\n",
    "    y_pred[index] = predicted_y\n",
    "\n"
   ]
  },
  {
   "cell_type": "code",
   "execution_count": null,
   "metadata": {},
   "outputs": [],
   "source": [
    "#Cross Check\n",
    "#print(y_pred[1002])\n",
    "#print(predict(test_x[1002], logprior,loglikelihood))"
   ]
  },
  {
   "cell_type": "markdown",
   "metadata": {},
   "source": [
    "## Using Standard Functions for Determining Evaluation Metrics i.e. Accuracy, Precision and Recall"
   ]
  },
  {
   "cell_type": "code",
   "execution_count": 116,
   "metadata": {},
   "outputs": [],
   "source": [
    "accuracy = accuracy_score(test_y, y_pred)\n",
    "precision = precision_score(test_y,y_pred,average = 'binary')\n",
    "recall = recall_score(test_y,y_pred,average = 'binary')"
   ]
  },
  {
   "cell_type": "code",
   "execution_count": 117,
   "metadata": {},
   "outputs": [
    {
     "name": "stdout",
     "output_type": "stream",
     "text": [
      "The accuracy of the model is --> 0.994\n",
      "The precision of the model is: --> 0.9959839357429718\n",
      "The recall score of the model is: --> 0.992\n"
     ]
    }
   ],
   "source": [
    "print(f\"The accuracy of the model is --> {accuracy}\")\n",
    "print(f\"The precision of the model is: --> {precision}\")\n",
    "print(f\"The recall score of the model is: --> {recall}\")"
   ]
  },
  {
   "cell_type": "markdown",
   "metadata": {},
   "source": [
    "## Importing Matplotlib and Seaborn for Visualizing the Confusion Matrix"
   ]
  },
  {
   "cell_type": "code",
   "execution_count": 121,
   "metadata": {},
   "outputs": [],
   "source": [
    "from matplotlib import pyplot as plt\n",
    "import seaborn as sns"
   ]
  },
  {
   "cell_type": "markdown",
   "metadata": {},
   "source": [
    "## Creating and Visualizing Confusion Matrix"
   ]
  },
  {
   "cell_type": "code",
   "execution_count": 127,
   "metadata": {},
   "outputs": [
    {
     "data": {
      "image/png": "[encoded data removed]",
      "text/plain": [
       "<Figure size 500x500 with 2 Axes>"
      ]
     },
     "metadata": {},
     "output_type": "display_data"
    }
   ],
   "source": [
    "#Creating a confusion matrix\n",
    "\n",
    "cm = confusion_matrix(test_y, y_pred)\n",
    "plt.figure(figsize = (5,5))\n",
    "sns.heatmap(cm, annot= True, fmt = 'd', cmap ='Blues',xticklabels=['Predicted Negative','Predicted Positive'], yticklabels=['Actual Negative','Actual Positive'])\n",
    "plt.xlabel(\"Predicted Labels\")\n",
    "plt.ylabel(\"True Labels\")\n",
    "plt.show()"
   ]
  },
  {
   "cell_type": "markdown",
   "metadata": {},
   "source": [
    "## Manually Calculating Evaluation Metrics using the Confusion Matrix"
   ]
  },
  {
   "cell_type": "code",
   "execution_count": 135,
   "metadata": {},
   "outputs": [
    {
     "name": "stdout",
     "output_type": "stream",
     "text": [
      "The calculated accuracy is --> 0.994\n",
      "The calculated precision is --> 0.9959839357429718\n",
      "The calculated recall is --> 0.992\n"
     ]
    }
   ],
   "source": [
    "#Cross Checking Evaluation Metrics through the Confusion Matrix\n",
    "\n",
    "calculated_accuracy = (cm[0][0]+ cm[1][1]) / (len(test_y))\n",
    "print(f'The calculated accuracy is --> {calculated_accuracy}')\n",
    "\n",
    "calculated_precision = ((cm[1][1]) / (cm[1][1] + cm[0][1] ))\n",
    "print(f'The calculated precision is --> {calculated_precision}')\n",
    "\n",
    "calculated_recall = (cm[1][1]/(cm[1][1]+cm[1][0]))\n",
    "print(f'The calculated recall is --> {calculated_recall}')"
   ]
  },
  {
   "cell_type": "markdown",
   "metadata": {},
   "source": [
    "# Results and Observation  \n",
    "The Naive Bayes Algorithm was implemented and its evaluation metrics were calculated. The accuracy was found to be **0.994**. Its precision was **0.996** and the recall was calulated to be **0.992**. Since the dataset was balanced i.e. 50% positive samples and 50% negative samples, the precision and recall were also very high along with its accuracy. It was also able to satisfactorily classify random tweets extracted from twitter that were not a part of this dataset. "
   ]
  },
  {
   "cell_type": "markdown",
   "metadata": {},
   "source": [
    "# Conclusion\n",
    "\n",
    "Thus, we created a Sentiment Analysis tool for tweets using Naive Bayes Algorithm. As it was a standard dataset from the NLTK Corpus, it performed well with random tweets outside of the dataset. The model gave a very high accuracy, precision and recall - as it was a well-balanced dataset. The project significantly increased our understanding of the Naive Bayes Classifiers and their implementation using Python and its relevant libraries. "
   ]
  },
  {
   "cell_type": "code",
   "execution_count": null,
   "metadata": {},
   "outputs": [],
   "source": []
  }
 ],
 "metadata": {
  "kernelspec": {
   "display_name": "Python 3",
   "language": "python",
   "name": "python3"
  },
  "language_info": {
   "codemirror_mode": {
    "name": "ipython",
    "version": 3
   },
   "file_extension": ".py",
   "mimetype": "text/x-python",
   "name": "python",
   "nbconvert_exporter": "python",
   "pygments_lexer": "ipython3",
   "version": "3.10.12"
  }
 },
 "nbformat": 4,
 "nbformat_minor": 2
}
